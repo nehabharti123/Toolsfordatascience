{
 "cells": [
  {
   "cell_type": "markdown",
   "id": "731186b6",
   "metadata": {},
   "source": [
    "## Tools For Data Science"
   ]
  },
  {
   "cell_type": "markdown",
   "id": "75e50a11",
   "metadata": {},
   "source": [
    "This Notebook contains all solution for all exercise mentioned in assignment."
   ]
  },
  {
   "cell_type": "markdown",
   "id": "bf8774ba",
   "metadata": {},
   "source": [
    "list for data science languages :-\n",
    "Python \n",
    "R\n",
    "SQL\n",
    "JAVA\n",
    "C++"
   ]
  },
  {
   "cell_type": "markdown",
   "id": "27fb0ce5",
   "metadata": {},
   "source": [
    "Some of the common used Libraries:-\n",
    "Numpy\n",
    "pandas\n",
    "Scipy\n",
    "Tensorflow\n",
    "keras\n",
    "pytorch\n",
    "matplotlib\n",
    "scikit-Learn"
   ]
  },
  {
   "cell_type": "markdown",
   "id": "27909d38",
   "metadata": {},
   "source": [
    "|Data Science Tools|\n",
    "|------------------|\n",
    "|TensorFlow|\n",
    "|Apache Hadoop|\n",
    "|Saas|\n"
   ]
  },
  {
   "cell_type": "markdown",
   "id": "21ada9e9",
   "metadata": {},
   "source": [
    "arithmetic expression examples are given below:-\n"
   ]
  },
  {
   "cell_type": "code",
   "execution_count": 1,
   "id": "2ca703f8",
   "metadata": {},
   "outputs": [
    {
     "data": {
      "text/plain": [
       "100"
      ]
     },
     "execution_count": 1,
     "metadata": {},
     "output_type": "execute_result"
    }
   ],
   "source": [
    "#multiplcation and addition examples:\n",
    "(3*6)+82"
   ]
  },
  {
   "cell_type": "code",
   "execution_count": 3,
   "id": "c04c4660",
   "metadata": {},
   "outputs": [
    {
     "data": {
      "text/plain": [
       "2.0"
      ]
     },
     "execution_count": 3,
     "metadata": {},
     "output_type": "execute_result"
    }
   ],
   "source": [
    "# conversion of minutes to hours\n",
    "minutes = 120;\n",
    "hours = minutes /60;\n",
    "hours"
   ]
  },
  {
   "cell_type": "markdown",
   "id": "de217127",
   "metadata": {},
   "source": [
    "_Objectives_\n",
    "* list popular languages for data science\n",
    "* list popular libraries for data science\n",
    "* list all well known data science tools\n",
    "* How to provide comments in the cell\n"
   ]
  },
  {
   "cell_type": "markdown",
   "id": "1ae5af0c",
   "metadata": {},
   "source": [
    "## Authors\n",
    "Neha Bharti\n",
    "\n"
   ]
  }
 ],
 "metadata": {
  "kernelspec": {
   "display_name": "Python 3 (ipykernel)",
   "language": "python",
   "name": "python3"
  },
  "language_info": {
   "codemirror_mode": {
    "name": "ipython",
    "version": 3
   },
   "file_extension": ".py",
   "mimetype": "text/x-python",
   "name": "python",
   "nbconvert_exporter": "python",
   "pygments_lexer": "ipython3",
   "version": "3.11.5"
  }
 },
 "nbformat": 4,
 "nbformat_minor": 5
}
